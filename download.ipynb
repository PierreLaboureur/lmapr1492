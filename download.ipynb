from pymatgen.io.cif import CifWriter
from pymatgen.ext.matproj import MPRester
with MPRester("kqOngsaR68ix5AD46") as m:

    # Structure for material id
    structure = m.get_structure_by_material_id("mp-4280")
    # Write to a CIF.
    structure.to(filename="GaCuO2_mp-4280_symmetrized.cif")
