{
 "cells": [
  {
   "cell_type": "code",
   "execution_count": 1,
   "metadata": {},
   "outputs": [
    {
     "name": "stdout",
     "output_type": "stream",
     "text": [
      "Système direct des vecteurs : \n",
      "[[ 2.91349235e+00 -2.91539000e-03  5.27968624e+00]\n",
      " [ 1.35781828e+00  2.57774624e+00  5.27968624e+00]\n",
      " [-4.83625000e-03 -2.91539000e-03  6.03021567e+00]]\n",
      "Système réciproque des vecteurs avec facteur 2pi: \n",
      "2.153311 -1.136660 0.001177\n",
      "0.000303 2.434901 0.001177\n",
      "-1.885572 -1.136660 1.039889\n",
      "Système réciproque des vecteurs sans facteur 2pi: \n",
      "0.342710 -0.180905 0.000187\n",
      "0.000048 0.387527 0.000187\n",
      "-0.300098 -0.180905 0.165503\n",
      "Type de maille : rhombohedral\n",
      "Système cristallin : trigonal\n",
      "Groupe ponctuel : -3m\n"
     ]
    }
   ],
   "source": [
    "import pymatgen as mg\n",
    "from pymatgen.io.cif import CifWriter\n",
    "from pymatgen.ext.matproj import MPRester\n",
    "import pymatgen.symmetry.analyzer as sa\n",
    "m = MPRester(\"kqOngsaR68ix5AD46\")\n",
    "\n",
    "    # Structure for material id\n",
    "structure = m.get_structure_by_material_id(\"mp-4280\")\n",
    "    \n",
    "    # Write to a CIF.\n",
    "w = CifWriter(structure)\n",
    "w.write_file('GaCuO2_mp-4280_symmetrized.cif')\n",
    "\n",
    "    #Reseau direct\n",
    "Vdirect = structure.lattice.matrix #abc are in order Vdirect[0],Vdirect[1],Vdirect[3]\n",
    "V = structure.lattice.abc          #norme des vecteurs du reseau direct dans l'ordre abc\n",
    "Angl = structure.lattice.angles    #angles du reseau direct dans l'ordre alpha,beta,gamma\n",
    "print('Système direct des vecteurs : ')\n",
    "print(Vdirect)\n",
    "\n",
    "    #Reseau reciproque \n",
    "    #a*,b*,c* are in order Vrecip[0],Vrecip[1],Vrecip[3]\n",
    "Vrecip = structure.lattice.reciprocal_lattice \n",
    "print('Système réciproque des vecteurs avec facteur 2pi: ')\n",
    "print(Vrecip)\n",
    "\n",
    "Vrecip2 = structure.lattice.reciprocal_lattice_crystallographic\n",
    "print('Système réciproque des vecteurs sans facteur 2pi: ')\n",
    "print(Vrecip2)\n",
    "    \n",
    "    #type de maille\n",
    "strct       = sa.SpacegroupAnalyzer(structure)\n",
    "Type_maille = strct.get_lattice_type()\n",
    "print('Type de maille : ' + Type_maille)\n",
    "    \n",
    "    #système cristallin\n",
    "Syst_crist = strct.get_crystal_system()\n",
    "print('Système cristallin : ' + Syst_crist)\n",
    "    #groupe ponctuel\n",
    "\n",
    "Groupe = strct.get_point_group_symbol()\n",
    "print('Groupe ponctuel : ' + Groupe)"
   ]
  },
  {
   "cell_type": "markdown",
   "metadata": {},
   "source": [
    "### "
   ]
  }
 ],
 "metadata": {
  "kernelspec": {
   "display_name": "Python 3",
   "language": "python",
   "name": "python3"
  },
  "language_info": {
   "codemirror_mode": {
    "name": "ipython",
    "version": 3
   },
   "file_extension": ".py",
   "mimetype": "text/x-python",
   "name": "python",
   "nbconvert_exporter": "python",
   "pygments_lexer": "ipython3",
   "version": "3.6.8"
  }
 },
 "nbformat": 4,
 "nbformat_minor": 2
}
