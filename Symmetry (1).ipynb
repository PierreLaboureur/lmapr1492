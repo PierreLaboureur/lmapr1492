{
 "cells": [
  {
   "cell_type": "code",
   "execution_count": 1,
   "metadata": {},
   "outputs": [
    {
     "name": "stdout",
     "output_type": "stream",
     "text": [
      "atome de depart :  [0.6666666666666666, 0.3333333333333333, 0.3333333333333333]\n",
      "atome d arrivee :  [-0.66666667  0.66666667  0.66666667]\n",
      "operation de symetrie : \n",
      " [-0.66666667  0.66666667  0.66666667] = [-0.33333333  0.33333333  0.33333333] + \n",
      " [[ 0. -1.  0.]\n",
      " [ 1. -1.  0.]\n",
      " [ 0.  0.  1.]] . [0.6666666666666666, 0.3333333333333333, 0.3333333333333333]\n",
      "\n",
      "atome de depart :  [0.0, 0.0, 1.0]\n",
      "atome d arrivee :  [ 0.  0. -1.]\n",
      "operation de symetrie : \n",
      " [ 0.  0. -1.] = [0. 0. 0.] + \n",
      " [[-1.  0.  0.]\n",
      " [-1.  1.  0.]\n",
      " [ 0.  0. -1.]] . [0.0, 0.0, 1.0]\n",
      "\n",
      "atome de depart :  [0.0, 0.0, 0.5]\n",
      "atome d arrivee :  [-0.33333333  0.33333333  0.83333333]\n",
      "operation de symetrie : \n",
      " [-0.33333333  0.33333333  0.83333333] = [-0.33333333  0.33333333  0.33333333] + \n",
      " [[-1.  1.  0.]\n",
      " [-1.  0.  0.]\n",
      " [ 0.  0.  1.]] . [0.0, 0.0, 0.5]\n"
     ]
    }
   ],
   "source": [
    "from pymatgen.io.cif import CifWriter\n",
    "from pymatgen.ext.matproj import MPRester\n",
    "import pymatgen.symmetry.analyzer as sa\n",
    "from numpy import *\n",
    "from pymatgen.core.operations import *\n",
    "\n",
    "\n",
    "# Structure for material id\n",
    "m = MPRester(\"kqOngsaR68ix5AD46\")\n",
    "structure = m.get_structure_by_material_id(\"mp-4280\")\n",
    "# Write to a CIF.\n",
    "w = CifWriter(structure,0.1)\n",
    "w.write_file('GaCuO2_mp-4280_symmetrized.cif')\n",
    "\n",
    "#============================================================================\n",
    "\n",
    "Op1  = SymmOp.from_xyz_string('-y-1/3,x-y+1/3,z+1/3') #15\n",
    "Cu1  = [2/3,1/3,1/3]                                  #6\n",
    "Cu1s = Op1.operate(Cu1)\n",
    "\n",
    "print(\"atome de depart : \", Cu1)\n",
    "print(\"atome d arrivee : \", Cu1s)\n",
    "print('operation de symetrie : \\n', Cu1s, '=', \n",
    "      Op1.translation_vector, \"+ \\n\", Op1.rotation_matrix, \".\", Cu1)\n",
    "\n",
    "#============================================================================\n",
    "\n",
    "Op2  = SymmOp.from_xyz_string('-x,-x+y,-z') #11\n",
    "Ga0  = [0.,0.,1.]                           #13\n",
    "Ga0s = Op2.operate(Ga0)\n",
    "\n",
    "print(\"\\natome de depart : \", Ga0)\n",
    "print(\"atome d arrivee : \", Ga0s)\n",
    "print('operation de symetrie : \\n', Ga0s, '=', \n",
    "      Op2.translation_vector, \"+ \\n\", Op2.rotation_matrix, \".\", Ga0)\n",
    "\n",
    "#============================================================================\n",
    "\n",
    "Op3  = SymmOp.from_xyz_string('-x+y-1/3,-x+1/3,z+1/3') #17\n",
    "Ga0  = [0.,0.,0.5]                                     #1\n",
    "Ga0s = Op3.operate(Ga0)\n",
    "\n",
    "print(\"\\natome de depart : \", Ga0)\n",
    "print(\"atome d arrivee : \", Ga0s)\n",
    "print('operation de symetrie : \\n', Ga0s, '=', \n",
    "      Op3.translation_vector, \"+ \\n\", Op3.rotation_matrix, \".\", Ga0)\n",
    "\n",
    "\n"
   ]
  },
  {
   "cell_type": "code",
   "execution_count": 2,
   "metadata": {},
   "outputs": [
    {
     "data": {
      "text/html": [
       "<img src = \"Sym1.jpg\",width=200,height=200>\n"
      ],
      "text/plain": [
       "<IPython.core.display.HTML object>"
      ]
     },
     "metadata": {},
     "output_type": "display_data"
    }
   ],
   "source": [
    "%%html\n",
    "<img src = \"Sym1.jpg\",width=200,height=200>"
   ]
  },
  {
   "cell_type": "code",
   "execution_count": 3,
   "metadata": {},
   "outputs": [
    {
     "data": {
      "text/html": [
       "<img src = \"Sym2.jpg\",width=200,height=200>\n"
      ],
      "text/plain": [
       "<IPython.core.display.HTML object>"
      ]
     },
     "metadata": {},
     "output_type": "display_data"
    }
   ],
   "source": [
    "%%html\n",
    "<img src = \"Sym2.jpg\",width=200,height=200>"
   ]
  },
  {
   "cell_type": "code",
   "execution_count": 4,
   "metadata": {},
   "outputs": [
    {
     "data": {
      "text/html": [
       "<img src = \"Sym3.jpg\",width=200,height=200>\n"
      ],
      "text/plain": [
       "<IPython.core.display.HTML object>"
      ]
     },
     "metadata": {},
     "output_type": "display_data"
    }
   ],
   "source": [
    "%%html\n",
    "<img src = \"Sym3.jpg\",width=200,height=200>"
   ]
  },
  {
   "cell_type": "code",
   "execution_count": null,
   "metadata": {},
   "outputs": [],
   "source": []
  },
  {
   "cell_type": "code",
   "execution_count": null,
   "metadata": {},
   "outputs": [],
   "source": []
  }
 ],
 "metadata": {
  "kernelspec": {
   "display_name": "Python 3",
   "language": "python",
   "name": "python3"
  },
  "language_info": {
   "codemirror_mode": {
    "name": "ipython",
    "version": 3
   },
   "file_extension": ".py",
   "mimetype": "text/x-python",
   "name": "python",
   "nbconvert_exporter": "python",
   "pygments_lexer": "ipython3",
   "version": "3.6.8"
  }
 },
 "nbformat": 4,
 "nbformat_minor": 2
}
